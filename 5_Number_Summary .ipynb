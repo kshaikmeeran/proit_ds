{
  "nbformat": 4,
  "nbformat_minor": 0,
  "metadata": {
    "colab": {
      "provenance": [],
      "machine_shape": "hm"
    },
    "kernelspec": {
      "name": "python3",
      "display_name": "Python 3"
    },
    "accelerator": "TPU"
  },
  "cells": [
    {
      "cell_type": "markdown",
      "metadata": {
        "id": "4cbgwZWWfWpp"
      },
      "source": [
        "# New Section"
      ]
    },
    {
      "cell_type": "code",
      "metadata": {
        "id": "tAb77yZ9fzMG"
      },
      "source": [
        "import numpy as np\n"
      ],
      "execution_count": 1,
      "outputs": []
    },
    {
      "cell_type": "code",
      "metadata": {
        "id": "pafL7Li0jyXW"
      },
      "source": [
        "def Remove_Outliers(data):\n",
        "  min=np.min(data)\n",
        "  q1=np.percentile(data,25)\n",
        "  median=np.median(data)\n",
        "  q3=np.percentile(data,75)\n",
        "  max=np.max(data)\n",
        "\n",
        "  iqr=q3-q1\n",
        "\n",
        "  Lower_bound=q1 - 1.5 * iqr\n",
        "  Upper_bound=q3 + 1.5 * iqr\n",
        "\n",
        "\n",
        "\n",
        "  Cleaned_data=[x for x in data if Lower_bound >= x <= Upper_bound ]\n",
        "\n",
        "  return Cleaned_data\n",
        "\n"
      ],
      "execution_count": 37,
      "outputs": []
    },
    {
      "cell_type": "code",
      "source": [
        "data=[20,10,15,60,50,55,0.0005,50000]"
      ],
      "metadata": {
        "id": "cNiq-dIJXFz4"
      },
      "execution_count": 38,
      "outputs": []
    },
    {
      "cell_type": "code",
      "source": [
        "data"
      ],
      "metadata": {
        "id": "tjRHSRitXeTx",
        "outputId": "0bd64bfa-1cff-4557-ba4f-983cb2f0e04e",
        "colab": {
          "base_uri": "https://localhost:8080/"
        }
      },
      "execution_count": 39,
      "outputs": [
        {
          "output_type": "execute_result",
          "data": {
            "text/plain": [
              "[20, 10, 15, 60, 50, 55, 0.0005, 50000]"
            ]
          },
          "metadata": {},
          "execution_count": 39
        }
      ]
    },
    {
      "cell_type": "code",
      "source": [],
      "metadata": {
        "id": "EJqoPzooXh7N"
      },
      "execution_count": 39,
      "outputs": []
    },
    {
      "cell_type": "code",
      "source": [
        "Cleaned_data=Remove_Outliers(data)\n"
      ],
      "metadata": {
        "id": "tF48rKVeXNS7"
      },
      "execution_count": 40,
      "outputs": []
    },
    {
      "cell_type": "code",
      "source": [
        "Cleaned_data"
      ],
      "metadata": {
        "id": "vDa_wHKRXSNL",
        "outputId": "e25b5d0f-e21e-47f1-a94e-bd81b159b096",
        "colab": {
          "base_uri": "https://localhost:8080/"
        }
      },
      "execution_count": 41,
      "outputs": [
        {
          "output_type": "execute_result",
          "data": {
            "text/plain": [
              "120.0"
            ]
          },
          "metadata": {},
          "execution_count": 41
        }
      ]
    }
  ]
}