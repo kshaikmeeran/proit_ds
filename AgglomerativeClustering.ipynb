{
 "cells": [
  {
   "cell_type": "code",
   "execution_count": null,
   "id": "70263027-ebc7-40b6-870c-c3825ea0012e",
   "metadata": {},
   "outputs": [],
   "source": [
    "from sklearn.cluster import AgglomerativeClustering\n",
    "import pandas as pd \n",
    "import numpy as np\n",
    "from matplotlib import pyplot as plt \n",
    "import scipy.cluster.hierarchy as sch"
   ]
  },
  {
   "cell_type": "code",
   "execution_count": null,
   "id": "d00c68ae-e8b5-4b23-b29e-819a696fb333",
   "metadata": {},
   "outputs": [],
   "source": [
    "df=pd.read_excel(\"Universities.xlsx\")"
   ]
  },
  {
   "cell_type": "code",
   "execution_count": null,
   "id": "9e430ad8-72cf-4ba4-bf45-78ed359f3b86",
   "metadata": {},
   "outputs": [],
   "source": [
    "df"
   ]
  },
  {
   "cell_type": "code",
   "execution_count": null,
   "id": "ee57df91-1c01-4f6f-960c-35499163d358",
   "metadata": {},
   "outputs": [],
   "source": [
    "def nor_fun(i):\n",
    "    x=(i-i.min())/(i.max()-i.min())\n",
    "    return x"
   ]
  },
  {
   "cell_type": "code",
   "execution_count": null,
   "id": "bcbcd3fd-1703-4c39-88d9-e96aeb74d44d",
   "metadata": {},
   "outputs": [],
   "source": [
    "df_norm=nor_fun(df.iloc[:,1:])"
   ]
  },
  {
   "cell_type": "code",
   "execution_count": null,
   "id": "a1977e06-5826-4481-b0ae-94fd6417c390",
   "metadata": {},
   "outputs": [],
   "source": [
    "df_norm"
   ]
  },
  {
   "cell_type": "code",
   "execution_count": null,
   "id": "e483905a-393c-4ea7-a2db-0a16da82d272",
   "metadata": {},
   "outputs": [],
   "source": [
    "dendrogram=sch.dendrogram(sch.linkage(df_norm))"
   ]
  },
  {
   "cell_type": "code",
   "execution_count": null,
   "id": "81dd65a7-97a5-420d-bcb3-8d253e675582",
   "metadata": {},
   "outputs": [],
   "source": [
    "hc=AgglomerativeClustering( n_clusters=4)"
   ]
  },
  {
   "cell_type": "code",
   "execution_count": null,
   "id": "67377a30-f8d1-4dcf-8325-ed460aca23ba",
   "metadata": {},
   "outputs": [],
   "source": [
    "hc.fit_predict(df_norm)"
   ]
  },
  {
   "cell_type": "code",
   "execution_count": null,
   "id": "f182961a-2b14-48b8-8053-f43393416205",
   "metadata": {},
   "outputs": [],
   "source": [
    "df[\"Clusters\"]=hc.fit_predict(df_norm)"
   ]
  },
  {
   "cell_type": "code",
   "execution_count": null,
   "id": "787a3130-67ec-40d2-b8a1-22c5916666d3",
   "metadata": {},
   "outputs": [],
   "source": [
    "df"
   ]
  },
  {
   "cell_type": "code",
   "execution_count": null,
   "id": "dbdaf942-5c8e-4709-880c-4755f4726abc",
   "metadata": {},
   "outputs": [],
   "source": [
    "df[df[\"Clusters\"]==0]"
   ]
  }
 ],
 "metadata": {
  "kernelspec": {
   "display_name": "Python 3 (ipykernel)",
   "language": "python",
   "name": "python3"
  },
  "language_info": {
   "codemirror_mode": {
    "name": "ipython",
    "version": 3
   },
   "file_extension": ".py",
   "mimetype": "text/x-python",
   "name": "python",
   "nbconvert_exporter": "python",
   "pygments_lexer": "ipython3",
   "version": "3.12.1"
  }
 },
 "nbformat": 4,
 "nbformat_minor": 5
}
