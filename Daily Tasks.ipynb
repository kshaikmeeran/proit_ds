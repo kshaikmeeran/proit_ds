{
 "cells": [
  {
   "cell_type": "markdown",
   "id": "70f10c24",
   "metadata": {},
   "source": [
    "###   Daily Task 1"
   ]
  },
  {
   "cell_type": "code",
   "execution_count": 1,
   "id": "7064a509",
   "metadata": {},
   "outputs": [],
   "source": [
    "# Daily Task 1 - Come up with 2 examples of String Function"
   ]
  },
  {
   "cell_type": "code",
   "execution_count": 2,
   "id": "c9a376fb",
   "metadata": {},
   "outputs": [],
   "source": [
    "first_name = \"rajesh\"\n",
    "last_name = \"KuMar\"\n",
    "proit = \"Data Science is fantastic\""
   ]
  },
  {
   "cell_type": "markdown",
   "id": "f267ce89",
   "metadata": {},
   "source": [
    "## Capitalize\n",
    "Return a capitalized version of the string."
   ]
  },
  {
   "cell_type": "code",
   "execution_count": 3,
   "id": "3e1a98b5",
   "metadata": {},
   "outputs": [
    {
     "data": {
      "text/plain": [
       "'Rajesh'"
      ]
     },
     "execution_count": 3,
     "metadata": {},
     "output_type": "execute_result"
    }
   ],
   "source": [
    "first_name.capitalize()"
   ]
  },
  {
   "cell_type": "code",
   "execution_count": 4,
   "id": "894ee288",
   "metadata": {},
   "outputs": [
    {
     "data": {
      "text/plain": [
       "'Kumar'"
      ]
     },
     "execution_count": 4,
     "metadata": {},
     "output_type": "execute_result"
    }
   ],
   "source": [
    "last_name.capitalize()"
   ]
  },
  {
   "cell_type": "markdown",
   "id": "fee7baf6",
   "metadata": {},
   "source": [
    "### Casefold()\n",
    "Return a version of the string suitable for caseless comparisons.\n",
    "The casefold() method converts all characters of the string into lowercase letters and returns a new string."
   ]
  },
  {
   "cell_type": "code",
   "execution_count": 5,
   "id": "fb987528",
   "metadata": {},
   "outputs": [
    {
     "data": {
      "text/plain": [
       "'rajesh'"
      ]
     },
     "execution_count": 5,
     "metadata": {},
     "output_type": "execute_result"
    }
   ],
   "source": [
    "first_name.casefold()"
   ]
  },
  {
   "cell_type": "code",
   "execution_count": 6,
   "id": "7f6ffacb",
   "metadata": {},
   "outputs": [
    {
     "data": {
      "text/plain": [
       "'kumar'"
      ]
     },
     "execution_count": 6,
     "metadata": {},
     "output_type": "execute_result"
    }
   ],
   "source": [
    "last_name.casefold()"
   ]
  },
  {
   "cell_type": "markdown",
   "id": "9cdf268d",
   "metadata": {},
   "source": [
    "### Center()\n",
    "Return a centered string of length width.\n",
    "\n"
   ]
  },
  {
   "cell_type": "code",
   "execution_count": 13,
   "id": "ff340734",
   "metadata": {},
   "outputs": [
    {
     "name": "stdout",
     "output_type": "stream",
     "text": [
      "*******Data Science is fantastic********\n"
     ]
    }
   ],
   "source": [
    "proit = \"Data Science is fantastic\"\n",
    "new = proit.center(40, '*')\n",
    "print(new)"
   ]
  },
  {
   "cell_type": "code",
   "execution_count": 9,
   "id": "c7cd5705",
   "metadata": {},
   "outputs": [
    {
     "name": "stdout",
     "output_type": "stream",
     "text": [
      "***Python is awesome****\n"
     ]
    }
   ],
   "source": [
    "sentence = \"Python is awesome\"\n",
    "\n",
    "# returns the centered padded string of length 24 \n",
    "new_string = sentence.center(24, '*')\n",
    "\n",
    "print(new_string)"
   ]
  },
  {
   "cell_type": "markdown",
   "id": "e56e03be",
   "metadata": {},
   "source": [
    "## Count()\n"
   ]
  },
  {
   "cell_type": "code",
   "execution_count": 16,
   "id": "ac02eff2",
   "metadata": {},
   "outputs": [
    {
     "data": {
      "text/plain": [
       "4"
      ]
     },
     "execution_count": 16,
     "metadata": {},
     "output_type": "execute_result"
    }
   ],
   "source": [
    "new_msg = 'Data science drives discoveries, deploying deep analytics.'\n",
    "new_msg.count('d')"
   ]
  },
  {
   "cell_type": "code",
   "execution_count": 18,
   "id": "20017a6b",
   "metadata": {},
   "outputs": [
    {
     "data": {
      "text/plain": [
       "2"
      ]
     },
     "execution_count": 18,
     "metadata": {},
     "output_type": "execute_result"
    }
   ],
   "source": [
    "sentence = \"Python is awesome\"\n",
    "sentence.count('o')"
   ]
  },
  {
   "cell_type": "markdown",
   "id": "07fef7b4",
   "metadata": {},
   "source": [
    "### Endswith()\n",
    "Return True if S ends with the specified suffix, False otherwise."
   ]
  },
  {
   "cell_type": "code",
   "execution_count": 19,
   "id": "3c550577",
   "metadata": {},
   "outputs": [
    {
     "data": {
      "text/plain": [
       "True"
      ]
     },
     "execution_count": 19,
     "metadata": {},
     "output_type": "execute_result"
    }
   ],
   "source": [
    "sentence.endswith('awesome')"
   ]
  },
  {
   "cell_type": "code",
   "execution_count": 20,
   "id": "a251f4d3",
   "metadata": {},
   "outputs": [
    {
     "data": {
      "text/plain": [
       "False"
      ]
     },
     "execution_count": 20,
     "metadata": {},
     "output_type": "execute_result"
    }
   ],
   "source": [
    "new_msg.endswith('deep')"
   ]
  },
  {
   "cell_type": "markdown",
   "id": "b9a4f702",
   "metadata": {},
   "source": [
    "### expandtabs()\n",
    "Return a copy where all tab characters are expanded using spaces."
   ]
  },
  {
   "cell_type": "code",
   "execution_count": 21,
   "id": "1b515245",
   "metadata": {},
   "outputs": [],
   "source": [
    "str = 'xyz\\t12345\\tabc'\n"
   ]
  },
  {
   "cell_type": "code",
   "execution_count": 22,
   "id": "ac96b00c",
   "metadata": {},
   "outputs": [
    {
     "data": {
      "text/plain": [
       "'xyz     12345   abc'"
      ]
     },
     "execution_count": 22,
     "metadata": {},
     "output_type": "execute_result"
    }
   ],
   "source": [
    "str.expandtabs()"
   ]
  },
  {
   "cell_type": "code",
   "execution_count": 25,
   "id": "c6540f71",
   "metadata": {},
   "outputs": [],
   "source": [
    "str_1 = 'ffgdsd\\tlkgskjsgd\\t345678'"
   ]
  },
  {
   "cell_type": "code",
   "execution_count": 26,
   "id": "0687d776",
   "metadata": {},
   "outputs": [
    {
     "data": {
      "text/plain": [
       "'ffgdsd  lkgskjsgd       345678'"
      ]
     },
     "execution_count": 26,
     "metadata": {},
     "output_type": "execute_result"
    }
   ],
   "source": [
    "str_1.expandtabs()"
   ]
  },
  {
   "cell_type": "markdown",
   "id": "1a15e411",
   "metadata": {},
   "source": [
    "### Find()\n",
    "Return the lowest index in S where substring sub is found,\n",
    "such that sub is contained within S[start:end].\n"
   ]
  },
  {
   "cell_type": "code",
   "execution_count": 27,
   "id": "f8f28f88",
   "metadata": {},
   "outputs": [],
   "source": [
    "sentence = \"Python is awesome\""
   ]
  },
  {
   "cell_type": "code",
   "execution_count": 28,
   "id": "0870901e",
   "metadata": {},
   "outputs": [
    {
     "data": {
      "text/plain": [
       "7"
      ]
     },
     "execution_count": 28,
     "metadata": {},
     "output_type": "execute_result"
    }
   ],
   "source": [
    "sentence.find('is')"
   ]
  },
  {
   "cell_type": "code",
   "execution_count": 29,
   "id": "52a29464",
   "metadata": {},
   "outputs": [
    {
     "data": {
      "text/plain": [
       "33"
      ]
     },
     "execution_count": 29,
     "metadata": {},
     "output_type": "execute_result"
    }
   ],
   "source": [
    "new_msg = 'Data science drives discoveries, deploying deep analytics.'\n",
    "new_msg.find('deploying')"
   ]
  },
  {
   "cell_type": "markdown",
   "id": "053a73c6",
   "metadata": {},
   "source": [
    "### Format()\n"
   ]
  },
  {
   "cell_type": "code",
   "execution_count": 30,
   "id": "db82642b",
   "metadata": {},
   "outputs": [
    {
     "name": "stdout",
     "output_type": "stream",
     "text": [
      "Hi My Name is Shaik and study data science with ProIT\n"
     ]
    }
   ],
   "source": [
    "print(\"Hi My Name is {} and study data science with {}\".format(\"Shaik\",\"ProIT\"))"
   ]
  },
  {
   "cell_type": "code",
   "execution_count": 31,
   "id": "de81f744",
   "metadata": {},
   "outputs": [
    {
     "name": "stdout",
     "output_type": "stream",
     "text": [
      "Hi My Name is Shaik and study data science with ProIT\n"
     ]
    }
   ],
   "source": [
    "print(\"Hi My Name is {name} and study data science with {place}\".format(name=\"Shaik\",place=\"ProIT\"))"
   ]
  },
  {
   "cell_type": "code",
   "execution_count": null,
   "id": "faf05d39",
   "metadata": {},
   "outputs": [],
   "source": [
    "# format.map(),index(),isalnum,isalpha,isascii,isdecimal,isdigit,isidentifier,islower,isnumeric,isprintable,isspac,istitle,\n",
    "# isupper,join,ljust,lower,lstrip,maketrans,partition,removeprefix,removesuffix,replace,rfind,rindex,rjust,rpartition,rsplit,\n",
    "# rstrip,split,splitlines,startswith,strip,swapcase,title,translate,upper,zfill\n",
    "\n",
    "\n"
   ]
  },
  {
   "cell_type": "code",
   "execution_count": null,
   "id": "b5e2b043",
   "metadata": {},
   "outputs": [],
   "source": [
    "# lower - Return a copy of the string converted to lowercase.\n",
    "first_name = \"raJeSh\"\n",
    "last_name = \"KuMar\""
   ]
  },
  {
   "cell_type": "code",
   "execution_count": 32,
   "id": "7e574333",
   "metadata": {},
   "outputs": [
    {
     "data": {
      "text/plain": [
       "'rajesh'"
      ]
     },
     "execution_count": 32,
     "metadata": {},
     "output_type": "execute_result"
    }
   ],
   "source": [
    "first_name.lower()"
   ]
  },
  {
   "cell_type": "code",
   "execution_count": 33,
   "id": "97fb0731",
   "metadata": {},
   "outputs": [
    {
     "data": {
      "text/plain": [
       "'kumar'"
      ]
     },
     "execution_count": 33,
     "metadata": {},
     "output_type": "execute_result"
    }
   ],
   "source": [
    "last_name.lower()"
   ]
  },
  {
   "cell_type": "code",
   "execution_count": null,
   "id": "b2ed1ceb",
   "metadata": {},
   "outputs": [],
   "source": [
    "# upper - Return a copy of the string converted to uppercase."
   ]
  },
  {
   "cell_type": "code",
   "execution_count": 34,
   "id": "fe54729e",
   "metadata": {},
   "outputs": [
    {
     "data": {
      "text/plain": [
       "'RAJESH'"
      ]
     },
     "execution_count": 34,
     "metadata": {},
     "output_type": "execute_result"
    }
   ],
   "source": [
    "first_name.upper()"
   ]
  },
  {
   "cell_type": "code",
   "execution_count": 35,
   "id": "9f95f723",
   "metadata": {},
   "outputs": [
    {
     "data": {
      "text/plain": [
       "'KUMAR'"
      ]
     },
     "execution_count": 35,
     "metadata": {},
     "output_type": "execute_result"
    }
   ],
   "source": [
    "last_name.upper()"
   ]
  },
  {
   "cell_type": "code",
   "execution_count": 36,
   "id": "d5368d97",
   "metadata": {},
   "outputs": [
    {
     "data": {
      "text/plain": [
       "'Virat  '"
      ]
     },
     "execution_count": 36,
     "metadata": {},
     "output_type": "execute_result"
    }
   ],
   "source": [
    "#lstrip\n",
    "name_1 = '    Virat  '\n",
    "name_1.lstrip()"
   ]
  },
  {
   "cell_type": "code",
   "execution_count": 37,
   "id": "1c13a261",
   "metadata": {},
   "outputs": [
    {
     "data": {
      "text/plain": [
       "'    Virat'"
      ]
     },
     "execution_count": 37,
     "metadata": {},
     "output_type": "execute_result"
    }
   ],
   "source": [
    "#rstrip\n",
    "name_1.rstrip()"
   ]
  },
  {
   "cell_type": "code",
   "execution_count": 39,
   "id": "9c521a53",
   "metadata": {},
   "outputs": [
    {
     "data": {
      "text/plain": [
       "'Virat'"
      ]
     },
     "execution_count": 39,
     "metadata": {},
     "output_type": "execute_result"
    }
   ],
   "source": [
    "#strip\n",
    "name_1.strip()"
   ]
  },
  {
   "cell_type": "code",
   "execution_count": 40,
   "id": "02b1606f",
   "metadata": {},
   "outputs": [
    {
     "data": {
      "text/plain": [
       "7"
      ]
     },
     "execution_count": 40,
     "metadata": {},
     "output_type": "execute_result"
    }
   ],
   "source": [
    "#index\n",
    "name_1.index('a')"
   ]
  },
  {
   "cell_type": "code",
   "execution_count": 41,
   "id": "e86c3e99",
   "metadata": {},
   "outputs": [
    {
     "data": {
      "text/plain": [
       "False"
      ]
     },
     "execution_count": 41,
     "metadata": {},
     "output_type": "execute_result"
    }
   ],
   "source": [
    "#startswith\n",
    "new_msg = 'Data science drives discoveries, deploying deep analytics.'\n",
    "new_msg.startswith('s')"
   ]
  },
  {
   "cell_type": "code",
   "execution_count": 42,
   "id": "288049c3",
   "metadata": {},
   "outputs": [
    {
     "data": {
      "text/plain": [
       "True"
      ]
     },
     "execution_count": 42,
     "metadata": {},
     "output_type": "execute_result"
    }
   ],
   "source": [
    "new_msg.startswith('D')"
   ]
  },
  {
   "cell_type": "code",
   "execution_count": null,
   "id": "8ca0cf21",
   "metadata": {},
   "outputs": [],
   "source": [
    "# The isalnum() method returns True if all characters in the string are alphanumeric (either alphabets or numbers).\n",
    "#If not, it returns False."
   ]
  },
  {
   "cell_type": "code",
   "execution_count": 49,
   "id": "32c37f4a",
   "metadata": {},
   "outputs": [],
   "source": [
    "sent_1 = \"Chatgpt4\"\n",
    "sent_2 = \"Chatgpt 5\""
   ]
  },
  {
   "cell_type": "code",
   "execution_count": 44,
   "id": "1c8ab882",
   "metadata": {},
   "outputs": [
    {
     "data": {
      "text/plain": [
       "True"
      ]
     },
     "execution_count": 44,
     "metadata": {},
     "output_type": "execute_result"
    }
   ],
   "source": [
    "sent_1.isalnum()"
   ]
  },
  {
   "cell_type": "code",
   "execution_count": 50,
   "id": "c75d7c2d",
   "metadata": {},
   "outputs": [
    {
     "data": {
      "text/plain": [
       "False"
      ]
     },
     "execution_count": 50,
     "metadata": {},
     "output_type": "execute_result"
    }
   ],
   "source": [
    "sent_2.isalnum()"
   ]
  },
  {
   "cell_type": "code",
   "execution_count": null,
   "id": "875bbb85",
   "metadata": {},
   "outputs": [],
   "source": [
    "# he isalpha() returns:\n",
    "\n",
    "# True if all characters in the string are alphabets (can be both lowercase and uppercase).\n",
    "# False if at least one character is not alphabet.\n"
   ]
  },
  {
   "cell_type": "code",
   "execution_count": 51,
   "id": "72b7ed16",
   "metadata": {},
   "outputs": [],
   "source": [
    "name_1 = \"raJesh\"\n",
    "name_2 = \"KuMar33\""
   ]
  },
  {
   "cell_type": "code",
   "execution_count": 52,
   "id": "dfee84ae",
   "metadata": {},
   "outputs": [
    {
     "data": {
      "text/plain": [
       "True"
      ]
     },
     "execution_count": 52,
     "metadata": {},
     "output_type": "execute_result"
    }
   ],
   "source": [
    "name_1.isalpha()"
   ]
  },
  {
   "cell_type": "code",
   "execution_count": 53,
   "id": "e7c12f4f",
   "metadata": {},
   "outputs": [
    {
     "data": {
      "text/plain": [
       "False"
      ]
     },
     "execution_count": 53,
     "metadata": {},
     "output_type": "execute_result"
    }
   ],
   "source": [
    "name_2.isalpha()"
   ]
  },
  {
   "cell_type": "code",
   "execution_count": null,
   "id": "a35b1e5f",
   "metadata": {},
   "outputs": [],
   "source": []
  },
  {
   "cell_type": "code",
   "execution_count": null,
   "id": "e352dac9",
   "metadata": {},
   "outputs": [],
   "source": []
  },
  {
   "cell_type": "code",
   "execution_count": null,
   "id": "e869050a",
   "metadata": {},
   "outputs": [],
   "source": []
  },
  {
   "cell_type": "code",
   "execution_count": null,
   "id": "ef29bcac",
   "metadata": {},
   "outputs": [],
   "source": []
  }
 ],
 "metadata": {
  "kernelspec": {
   "display_name": "Python 3 (ipykernel)",
   "language": "python",
   "name": "python3"
  },
  "language_info": {
   "codemirror_mode": {
    "name": "ipython",
    "version": 3
   },
   "file_extension": ".py",
   "mimetype": "text/x-python",
   "name": "python",
   "nbconvert_exporter": "python",
   "pygments_lexer": "ipython3",
   "version": "3.11.5"
  }
 },
 "nbformat": 4,
 "nbformat_minor": 5
}
