{
 "cells": [
  {
   "cell_type": "markdown",
   "id": "d1f465b8",
   "metadata": {},
   "source": [
    "###   Daily Task 1"
   ]
  },
  {
   "cell_type": "code",
   "execution_count": 1,
   "id": "ac03af6b",
   "metadata": {},
   "outputs": [],
   "source": [
    "# Daily Task 1 - Come up with 2 examples of String Function"
   ]
  },
  {
   "cell_type": "code",
   "execution_count": 2,
   "id": "3c98ebac",
   "metadata": {},
   "outputs": [],
   "source": [
    "first_name = \"rajesh\"\n",
    "last_name = \"KuMar\"\n",
    "proit = \"Data Science is fantastic\""
   ]
  },
  {
   "cell_type": "markdown",
   "id": "0857a90f",
   "metadata": {},
   "source": [
    "## Capitalize\n",
    "Return a capitalized version of the string."
   ]
  },
  {
   "cell_type": "code",
   "execution_count": 3,
   "id": "36963413",
   "metadata": {},
   "outputs": [
    {
     "data": {
      "text/plain": [
       "'Rajesh'"
      ]
     },
     "execution_count": 3,
     "metadata": {},
     "output_type": "execute_result"
    }
   ],
   "source": [
    "first_name.capitalize()"
   ]
  },
  {
   "cell_type": "code",
   "execution_count": 4,
   "id": "f3b050ef",
   "metadata": {},
   "outputs": [
    {
     "data": {
      "text/plain": [
       "'Kumar'"
      ]
     },
     "execution_count": 4,
     "metadata": {},
     "output_type": "execute_result"
    }
   ],
   "source": [
    "last_name.capitalize()"
   ]
  },
  {
   "cell_type": "markdown",
   "id": "eafe1a53",
   "metadata": {},
   "source": [
    "### Casefold()\n",
    "Return a version of the string suitable for caseless comparisons.\n",
    "The casefold() method converts all characters of the string into lowercase letters and returns a new string."
   ]
  },
  {
   "cell_type": "code",
   "execution_count": 5,
   "id": "941b552c",
   "metadata": {},
   "outputs": [
    {
     "data": {
      "text/plain": [
       "'rajesh'"
      ]
     },
     "execution_count": 5,
     "metadata": {},
     "output_type": "execute_result"
    }
   ],
   "source": [
    "first_name.casefold()"
   ]
  },
  {
   "cell_type": "code",
   "execution_count": 6,
   "id": "19e9fd23",
   "metadata": {},
   "outputs": [
    {
     "data": {
      "text/plain": [
       "'kumar'"
      ]
     },
     "execution_count": 6,
     "metadata": {},
     "output_type": "execute_result"
    }
   ],
   "source": [
    "last_name.casefold()"
   ]
  },
  {
   "cell_type": "markdown",
   "id": "5cacce96",
   "metadata": {},
   "source": [
    "### Center()\n",
    "Return a centered string of length width.\n",
    "\n"
   ]
  },
  {
   "cell_type": "code",
   "execution_count": 7,
   "id": "e6cd68bc",
   "metadata": {},
   "outputs": [
    {
     "name": "stdout",
     "output_type": "stream",
     "text": [
      "*******Data Science is fantastic********\n"
     ]
    }
   ],
   "source": [
    "proit = \"Data Science is fantastic\"\n",
    "new = proit.center(40, '*')\n",
    "print(new)"
   ]
  },
  {
   "cell_type": "code",
   "execution_count": 8,
   "id": "0a219c20",
   "metadata": {},
   "outputs": [
    {
     "name": "stdout",
     "output_type": "stream",
     "text": [
      "***Python is awesome****\n"
     ]
    }
   ],
   "source": [
    "sentence = \"Python is awesome\"\n",
    "\n",
    "# returns the centered padded string of length 24 \n",
    "new_string = sentence.center(24, '*')\n",
    "\n",
    "print(new_string)"
   ]
  },
  {
   "cell_type": "markdown",
   "id": "af3b6063",
   "metadata": {},
   "source": [
    "## Count()\n"
   ]
  },
  {
   "cell_type": "code",
   "execution_count": 9,
   "id": "95e3c7a9",
   "metadata": {},
   "outputs": [
    {
     "data": {
      "text/plain": [
       "4"
      ]
     },
     "execution_count": 9,
     "metadata": {},
     "output_type": "execute_result"
    }
   ],
   "source": [
    "new_msg = 'Data science drives discoveries, deploying deep analytics.'\n",
    "new_msg.count('d')"
   ]
  },
  {
   "cell_type": "code",
   "execution_count": 10,
   "id": "12b4a3e3",
   "metadata": {},
   "outputs": [
    {
     "data": {
      "text/plain": [
       "2"
      ]
     },
     "execution_count": 10,
     "metadata": {},
     "output_type": "execute_result"
    }
   ],
   "source": [
    "sentence = \"Python is awesome\"\n",
    "sentence.count('o')"
   ]
  },
  {
   "cell_type": "markdown",
   "id": "d13c7961",
   "metadata": {},
   "source": [
    "### Endswith()\n",
    "Return True if S ends with the specified suffix, False otherwise."
   ]
  },
  {
   "cell_type": "code",
   "execution_count": 11,
   "id": "5fe55b70",
   "metadata": {},
   "outputs": [
    {
     "data": {
      "text/plain": [
       "True"
      ]
     },
     "execution_count": 11,
     "metadata": {},
     "output_type": "execute_result"
    }
   ],
   "source": [
    "sentence.endswith('awesome')"
   ]
  },
  {
   "cell_type": "code",
   "execution_count": 12,
   "id": "f51722b0",
   "metadata": {},
   "outputs": [
    {
     "data": {
      "text/plain": [
       "False"
      ]
     },
     "execution_count": 12,
     "metadata": {},
     "output_type": "execute_result"
    }
   ],
   "source": [
    "new_msg.endswith('deep')"
   ]
  },
  {
   "cell_type": "markdown",
   "id": "45f8bfa1",
   "metadata": {},
   "source": [
    "### expandtabs()\n",
    "Return a copy where all tab characters are expanded using spaces."
   ]
  },
  {
   "cell_type": "code",
   "execution_count": 13,
   "id": "3c2a78bc",
   "metadata": {},
   "outputs": [],
   "source": [
    "str = 'xyz\\t12345\\tabc'\n"
   ]
  },
  {
   "cell_type": "code",
   "execution_count": 14,
   "id": "942985ca",
   "metadata": {},
   "outputs": [
    {
     "data": {
      "text/plain": [
       "'xyz     12345   abc'"
      ]
     },
     "execution_count": 14,
     "metadata": {},
     "output_type": "execute_result"
    }
   ],
   "source": [
    "str.expandtabs()"
   ]
  },
  {
   "cell_type": "code",
   "execution_count": 15,
   "id": "ade881fe",
   "metadata": {},
   "outputs": [],
   "source": [
    "str_1 = 'ffgdsd\\tlkgskjsgd\\t345678'"
   ]
  },
  {
   "cell_type": "code",
   "execution_count": 16,
   "id": "84002f23",
   "metadata": {},
   "outputs": [
    {
     "data": {
      "text/plain": [
       "'ffgdsd  lkgskjsgd       345678'"
      ]
     },
     "execution_count": 16,
     "metadata": {},
     "output_type": "execute_result"
    }
   ],
   "source": [
    "str_1.expandtabs()"
   ]
  },
  {
   "cell_type": "markdown",
   "id": "192912e9",
   "metadata": {},
   "source": [
    "### Find()\n",
    "Return the lowest index in S where substring sub is found,\n",
    "such that sub is contained within S[start:end].\n"
   ]
  },
  {
   "cell_type": "code",
   "execution_count": 17,
   "id": "1a5fce78",
   "metadata": {},
   "outputs": [],
   "source": [
    "sentence = \"Python is awesome\""
   ]
  },
  {
   "cell_type": "code",
   "execution_count": 18,
   "id": "ec62d2a6",
   "metadata": {},
   "outputs": [
    {
     "data": {
      "text/plain": [
       "7"
      ]
     },
     "execution_count": 18,
     "metadata": {},
     "output_type": "execute_result"
    }
   ],
   "source": [
    "sentence.find('is')"
   ]
  },
  {
   "cell_type": "code",
   "execution_count": 19,
   "id": "ed880c85",
   "metadata": {},
   "outputs": [
    {
     "data": {
      "text/plain": [
       "33"
      ]
     },
     "execution_count": 19,
     "metadata": {},
     "output_type": "execute_result"
    }
   ],
   "source": [
    "new_msg = 'Data science drives discoveries, deploying deep analytics.'\n",
    "new_msg.find('deploying')"
   ]
  },
  {
   "cell_type": "markdown",
   "id": "b34cd312",
   "metadata": {},
   "source": [
    "### Format()\n"
   ]
  },
  {
   "cell_type": "code",
   "execution_count": 20,
   "id": "5ff1675d",
   "metadata": {},
   "outputs": [
    {
     "name": "stdout",
     "output_type": "stream",
     "text": [
      "Hi My Name is Shaik and study data science with ProIT\n"
     ]
    }
   ],
   "source": [
    "print(\"Hi My Name is {} and study data science with {}\".format(\"Shaik\",\"ProIT\"))"
   ]
  },
  {
   "cell_type": "code",
   "execution_count": 21,
   "id": "09cdb5be",
   "metadata": {},
   "outputs": [
    {
     "name": "stdout",
     "output_type": "stream",
     "text": [
      "Hi My Name is Shaik and study data science with ProIT\n"
     ]
    }
   ],
   "source": [
    "print(\"Hi My Name is {name} and study data science with {place}\".format(name=\"Shaik\",place=\"ProIT\"))"
   ]
  },
  {
   "cell_type": "code",
   "execution_count": 22,
   "id": "17206357",
   "metadata": {},
   "outputs": [],
   "source": [
    "# format.map(),index(),isalnum,isalpha,isascii,isdecimal,isdigit,isidentifier,islower,isnumeric,isprintable,isspac,istitle,\n",
    "# isupper,join,ljust,lower,lstrip,maketrans,partition,removeprefix,removesuffix,replace,rfind,rindex,rjust,rpartition,rsplit,\n",
    "# rstrip,split,splitlines,startswith,strip,swapcase,title,translate,upper,zfill\n",
    "\n",
    "\n"
   ]
  },
  {
   "cell_type": "code",
   "execution_count": 23,
   "id": "72577ab2",
   "metadata": {},
   "outputs": [],
   "source": [
    "# lower - Return a copy of the string converted to lowercase.\n",
    "first_name = \"raJeSh\"\n",
    "last_name = \"KuMar\""
   ]
  },
  {
   "cell_type": "code",
   "execution_count": 24,
   "id": "e2654230",
   "metadata": {},
   "outputs": [
    {
     "data": {
      "text/plain": [
       "'rajesh'"
      ]
     },
     "execution_count": 24,
     "metadata": {},
     "output_type": "execute_result"
    }
   ],
   "source": [
    "first_name.lower()"
   ]
  },
  {
   "cell_type": "code",
   "execution_count": 25,
   "id": "67e8bf6f",
   "metadata": {},
   "outputs": [
    {
     "data": {
      "text/plain": [
       "'kumar'"
      ]
     },
     "execution_count": 25,
     "metadata": {},
     "output_type": "execute_result"
    }
   ],
   "source": [
    "last_name.lower()"
   ]
  },
  {
   "cell_type": "code",
   "execution_count": 26,
   "id": "b646c0b2",
   "metadata": {},
   "outputs": [],
   "source": [
    "# upper - Return a copy of the string converted to uppercase."
   ]
  },
  {
   "cell_type": "code",
   "execution_count": 27,
   "id": "aef38e79",
   "metadata": {},
   "outputs": [
    {
     "data": {
      "text/plain": [
       "'RAJESH'"
      ]
     },
     "execution_count": 27,
     "metadata": {},
     "output_type": "execute_result"
    }
   ],
   "source": [
    "first_name.upper()"
   ]
  },
  {
   "cell_type": "code",
   "execution_count": 28,
   "id": "8729d3e1",
   "metadata": {},
   "outputs": [
    {
     "data": {
      "text/plain": [
       "'KUMAR'"
      ]
     },
     "execution_count": 28,
     "metadata": {},
     "output_type": "execute_result"
    }
   ],
   "source": [
    "last_name.upper()"
   ]
  },
  {
   "cell_type": "code",
   "execution_count": 43,
   "id": "749dff96",
   "metadata": {},
   "outputs": [
    {
     "data": {
      "text/plain": [
       "'Virat  '"
      ]
     },
     "execution_count": 43,
     "metadata": {},
     "output_type": "execute_result"
    }
   ],
   "source": [
    "#lstrip - Return a copy of the string with leading whitespace removed.\n",
    "name_1 = '    Virat  '\n",
    "name_1.lstrip()"
   ]
  },
  {
   "cell_type": "code",
   "execution_count": 30,
   "id": "664c2911",
   "metadata": {},
   "outputs": [
    {
     "data": {
      "text/plain": [
       "'    Virat'"
      ]
     },
     "execution_count": 30,
     "metadata": {},
     "output_type": "execute_result"
    }
   ],
   "source": [
    "#rstrip- Return a copy of the string with trailing whitespace removed.\n",
    "name_1.rstrip()"
   ]
  },
  {
   "cell_type": "code",
   "execution_count": 31,
   "id": "ddcc1f76",
   "metadata": {},
   "outputs": [
    {
     "data": {
      "text/plain": [
       "'Virat'"
      ]
     },
     "execution_count": 31,
     "metadata": {},
     "output_type": "execute_result"
    }
   ],
   "source": [
    "#strip-Return a copy of the string with leading and trailing whitespace removed.\n",
    "name_1.strip()"
   ]
  },
  {
   "cell_type": "code",
   "execution_count": 32,
   "id": "29955502",
   "metadata": {},
   "outputs": [
    {
     "data": {
      "text/plain": [
       "7"
      ]
     },
     "execution_count": 32,
     "metadata": {},
     "output_type": "execute_result"
    }
   ],
   "source": [
    "#index-Return the lowest index in S where substring sub is found,such that sub is contained within S[start:end].\n",
    "name_1.index('a')"
   ]
  },
  {
   "cell_type": "code",
   "execution_count": 33,
   "id": "1d731b61",
   "metadata": {},
   "outputs": [
    {
     "data": {
      "text/plain": [
       "False"
      ]
     },
     "execution_count": 33,
     "metadata": {},
     "output_type": "execute_result"
    }
   ],
   "source": [
    "#startswith - Return True if dataset starts with the specified prefix, False otherwise.\n",
    "new_msg = 'Data science drives discoveries, deploying deep analytics.'\n",
    "new_msg.startswith('s')"
   ]
  },
  {
   "cell_type": "code",
   "execution_count": 34,
   "id": "41e18946",
   "metadata": {},
   "outputs": [
    {
     "data": {
      "text/plain": [
       "True"
      ]
     },
     "execution_count": 34,
     "metadata": {},
     "output_type": "execute_result"
    }
   ],
   "source": [
    "new_msg.startswith('D')"
   ]
  },
  {
   "cell_type": "code",
   "execution_count": 35,
   "id": "d5722781",
   "metadata": {},
   "outputs": [],
   "source": [
    "# The isalnum() method returns True if all characters in the string are alphanumeric (either alphabets or numbers).\n",
    "#If not, it returns False."
   ]
  },
  {
   "cell_type": "code",
   "execution_count": 36,
   "id": "45e346ed",
   "metadata": {},
   "outputs": [],
   "source": [
    "sent_1 = \"Chatgpt4\"\n",
    "sent_2 = \"Chatgpt 5\""
   ]
  },
  {
   "cell_type": "code",
   "execution_count": 37,
   "id": "ecc15674",
   "metadata": {},
   "outputs": [
    {
     "data": {
      "text/plain": [
       "True"
      ]
     },
     "execution_count": 37,
     "metadata": {},
     "output_type": "execute_result"
    }
   ],
   "source": [
    "sent_1.isalnum()"
   ]
  },
  {
   "cell_type": "code",
   "execution_count": 38,
   "id": "babd8a83",
   "metadata": {},
   "outputs": [
    {
     "data": {
      "text/plain": [
       "False"
      ]
     },
     "execution_count": 38,
     "metadata": {},
     "output_type": "execute_result"
    }
   ],
   "source": [
    "sent_2.isalnum()"
   ]
  },
  {
   "cell_type": "code",
   "execution_count": 39,
   "id": "77ab63c8",
   "metadata": {},
   "outputs": [],
   "source": [
    "# he isalpha() returns:\n",
    "\n",
    "# True if all characters in the string are alphabets (can be both lowercase and uppercase).\n",
    "# False if at least one character is not alphabet.\n"
   ]
  },
  {
   "cell_type": "code",
   "execution_count": 40,
   "id": "1834d6fb",
   "metadata": {},
   "outputs": [],
   "source": [
    "name_1 = \"raJesh\"\n",
    "name_2 = \"KuMar33\""
   ]
  },
  {
   "cell_type": "code",
   "execution_count": 41,
   "id": "d892ffac",
   "metadata": {},
   "outputs": [
    {
     "data": {
      "text/plain": [
       "True"
      ]
     },
     "execution_count": 41,
     "metadata": {},
     "output_type": "execute_result"
    }
   ],
   "source": [
    "name_1.isalpha()"
   ]
  },
  {
   "cell_type": "code",
   "execution_count": 42,
   "id": "391be474",
   "metadata": {},
   "outputs": [
    {
     "data": {
      "text/plain": [
       "False"
      ]
     },
     "execution_count": 42,
     "metadata": {},
     "output_type": "execute_result"
    }
   ],
   "source": [
    "name_2.isalpha()"
   ]
  },
  {
   "cell_type": "code",
   "execution_count": null,
   "id": "7962d3ae",
   "metadata": {},
   "outputs": [],
   "source": [
    "# The isdecimal() returns:\n",
    "\n",
    "# True if all characters in the string are decimal characters.\n",
    "# False if at least one character is not decimal character."
   ]
  },
  {
   "cell_type": "code",
   "execution_count": 44,
   "id": "a1381ffa",
   "metadata": {},
   "outputs": [],
   "source": [
    "num_2 = '123456'"
   ]
  },
  {
   "cell_type": "code",
   "execution_count": 45,
   "id": "8db26993",
   "metadata": {},
   "outputs": [
    {
     "data": {
      "text/plain": [
       "True"
      ]
     },
     "execution_count": 45,
     "metadata": {},
     "output_type": "execute_result"
    }
   ],
   "source": [
    "num_2.isdecimal()"
   ]
  },
  {
   "cell_type": "code",
   "execution_count": 46,
   "id": "b14ab3e5",
   "metadata": {},
   "outputs": [],
   "source": [
    "num_3 = 'dhdghd456'"
   ]
  },
  {
   "cell_type": "code",
   "execution_count": 47,
   "id": "db5db197",
   "metadata": {},
   "outputs": [
    {
     "data": {
      "text/plain": [
       "False"
      ]
     },
     "execution_count": 47,
     "metadata": {},
     "output_type": "execute_result"
    }
   ],
   "source": [
    "num_3.isdecimal()"
   ]
  },
  {
   "cell_type": "code",
   "execution_count": 48,
   "id": "9e9a6ce0",
   "metadata": {},
   "outputs": [
    {
     "data": {
      "text/plain": [
       "'****Chatgpt4'"
      ]
     },
     "execution_count": 48,
     "metadata": {},
     "output_type": "execute_result"
    }
   ],
   "source": [
    "# rjust - The rjust() method right aligns the string up to a given width using a specified character.\n",
    "sent_1 = \"Chatgpt4\"\n",
    "sent_1.rjust(12 , '*')\n"
   ]
  },
  {
   "cell_type": "code",
   "execution_count": null,
   "id": "5431f78b",
   "metadata": {},
   "outputs": [],
   "source": []
  }
 ],
 "metadata": {
  "kernelspec": {
   "display_name": "Python 3 (ipykernel)",
   "language": "python",
   "name": "python3"
  },
  "language_info": {
   "codemirror_mode": {
    "name": "ipython",
    "version": 3
   },
   "file_extension": ".py",
   "mimetype": "text/x-python",
   "name": "python",
   "nbconvert_exporter": "python",
   "pygments_lexer": "ipython3",
   "version": "3.11.5"
  }
 },
 "nbformat": 4,
 "nbformat_minor": 5
}
