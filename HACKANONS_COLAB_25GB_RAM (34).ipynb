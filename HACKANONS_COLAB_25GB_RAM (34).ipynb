{
  "nbformat": 4,
  "nbformat_minor": 0,
  "metadata": {
    "colab": {
      "provenance": [],
      "machine_shape": "hm"
    },
    "kernelspec": {
      "name": "python3",
      "display_name": "Python 3"
    },
    "accelerator": "TPU"
  },
  "cells": [
    {
      "cell_type": "markdown",
      "source": [
        "The length of a human pregnancy is normally distributed with a mean of 272 days with a standard\n",
        "deviation of 9 days.\n",
        "\n",
        "\n",
        "1  Find the probability of a pregnancy lasting more than 280 days.\n",
        "2. Find the probability of a pregnancy lasting less than 250 days.\n",
        "3. Find the probability that a pregnancy lasts between 265 and 280 days."
      ],
      "metadata": {
        "id": "qKm8s7tcc4HF"
      }
    },
    {
      "cell_type": "code",
      "metadata": {
        "id": "pafL7Li0jyXW",
        "outputId": "ae0e87f8-52b7-4b68-ea19-5fd4e0005974",
        "colab": {
          "base_uri": "https://localhost:8080/"
        }
      },
      "source": [
        "pip install scipy"
      ],
      "execution_count": 42,
      "outputs": [
        {
          "output_type": "stream",
          "name": "stdout",
          "text": [
            "Requirement already satisfied: scipy in /usr/local/lib/python3.10/dist-packages (1.11.4)\n",
            "Requirement already satisfied: numpy<1.28.0,>=1.21.6 in /usr/local/lib/python3.10/dist-packages (from scipy) (1.23.5)\n"
          ]
        }
      ]
    },
    {
      "cell_type": "code",
      "source": [
        "from scipy import stats"
      ],
      "metadata": {
        "id": "NjiDxalvhnQb"
      },
      "execution_count": 43,
      "outputs": []
    },
    {
      "cell_type": "code",
      "source": [
        "1-stats.norm.cdf(x=280,loc=272 ,scale=9)"
      ],
      "metadata": {
        "id": "7K3cwbLzhtHR",
        "outputId": "eddeb758-3b49-40a2-ef28-81d719839992",
        "colab": {
          "base_uri": "https://localhost:8080/"
        }
      },
      "execution_count": 46,
      "outputs": [
        {
          "output_type": "execute_result",
          "data": {
            "text/plain": [
              "0.18703139874544128"
            ]
          },
          "metadata": {},
          "execution_count": 46
        }
      ]
    },
    {
      "cell_type": "code",
      "source": [
        "# 19%"
      ],
      "metadata": {
        "id": "JC0qwmxNilGq"
      },
      "execution_count": null,
      "outputs": []
    },
    {
      "cell_type": "code",
      "source": [
        "stats.norm.cdf(x=250,loc=272 ,scale=9)"
      ],
      "metadata": {
        "id": "ChM0hGITiI6j",
        "outputId": "6c4bc1c5-6be8-4157-9bf9-fee77b62b6e4",
        "colab": {
          "base_uri": "https://localhost:8080/"
        }
      },
      "execution_count": 49,
      "outputs": [
        {
          "output_type": "execute_result",
          "data": {
            "text/plain": [
              "0.7253771124867816"
            ]
          },
          "metadata": {},
          "execution_count": 49
        }
      ]
    },
    {
      "cell_type": "code",
      "source": [
        "#0.7%"
      ],
      "metadata": {
        "id": "gocta3x5inFR"
      },
      "execution_count": 50,
      "outputs": []
    },
    {
      "cell_type": "code",
      "source": [
        "stats.norm.cdf(x=280,loc=272 ,scale=9)-stats.norm.cdf(x=265,loc=272 ,scale=9)"
      ],
      "metadata": {
        "id": "badM-VGlicfH",
        "outputId": "ff64c85e-ab4b-4368-a625-b8d0de11af11",
        "colab": {
          "base_uri": "https://localhost:8080/"
        }
      },
      "execution_count": 48,
      "outputs": [
        {
          "output_type": "execute_result",
          "data": {
            "text/plain": [
              "0.5946185858931798"
            ]
          },
          "metadata": {},
          "execution_count": 48
        }
      ]
    },
    {
      "cell_type": "code",
      "source": [
        "# 59%"
      ],
      "metadata": {
        "id": "eKVCfuUqiuxK"
      },
      "execution_count": null,
      "outputs": []
    }
  ]
}